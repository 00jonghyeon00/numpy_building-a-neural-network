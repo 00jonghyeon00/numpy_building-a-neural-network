{
  "nbformat": 4,
  "nbformat_minor": 0,
  "metadata": {
    "colab": {
      "provenance": []
    },
    "kernelspec": {
      "name": "python3",
      "display_name": "Python 3"
    },
    "language_info": {
      "name": "python"
    }
  },
  "cells": [
    {
      "cell_type": "code",
      "execution_count": 2,
      "metadata": {
        "id": "SCeneyr22oe-"
      },
      "outputs": [],
      "source": [
        "import pandas as pd\n",
        "import numpy as np"
      ]
    },
    {
      "cell_type": "code",
      "source": [
        "#https://www.kaggle.com/competitions/digit-recognizer/data?select=train.csv\n",
        "data = pd.read_csv(\"/content/train.csv\")"
      ],
      "metadata": {
        "id": "TpxRbDr6254U"
      },
      "execution_count": 4,
      "outputs": []
    },
    {
      "cell_type": "code",
      "source": [
        "data = np.array(data)\n",
        "m, n = data.shape\n",
        "np.random.shuffle(data)\n",
        "\n",
        "data_dev = data[0:1000].T\n",
        "Y_dev = data_dev[0]\n",
        "X_dev = data_dev[1:n]\n",
        "\n",
        "data_train = data[1000:m].T\n",
        "Y_train = data_train[0]\n",
        "X_train = data_train[1:n]"
      ],
      "metadata": {
        "id": "hQfOacSt3oEZ"
      },
      "execution_count": 5,
      "outputs": []
    },
    {
      "cell_type": "code",
      "source": [
        "def init_params():\n",
        "\n",
        "    W1 = np.random.rand(10, 784)\n",
        "    b1 = np.random.rand(10, 1)\n",
        "    W2 = np.random.rand(10, 10)\n",
        "    b2 = np.random.rand(10, 1)\n",
        "\n",
        "    return W1, b1, W2, b2"
      ],
      "metadata": {
        "id": "geqq0FjX4sFj"
      },
      "execution_count": 6,
      "outputs": []
    },
    {
      "cell_type": "code",
      "source": [
        "def ReLU(Z):\n",
        "\n",
        "    return np.maximum(0, Z)\n",
        "\n",
        "def ReLU_deriv(Z):\n",
        "\n",
        "    return Z > 0"
      ],
      "metadata": {
        "id": "vgrJAI6QF_D_"
      },
      "execution_count": 7,
      "outputs": []
    },
    {
      "cell_type": "code",
      "source": [
        "def softmax(Z):\n",
        "    expZ = np.exp(Z - np.max(Z, axis=0, keepdims=True))\n",
        "    return expZ / np.sum(expZ, axis=0, keepdims=True)"
      ],
      "metadata": {
        "id": "YqkNJIP7H6Pt"
      },
      "execution_count": 8,
      "outputs": []
    },
    {
      "cell_type": "code",
      "source": [
        "def forward_propagation(W1, b1, W2, b2, X):\n",
        "    Z1 = W1.dot(X) + b1\n",
        "    A1 = ReLU(Z1)\n",
        "    Z2 = W2.dot(A1) + b2\n",
        "    A2 = softmax(Z2)\n",
        "    return Z1, A1, Z2, A2"
      ],
      "metadata": {
        "id": "ZcBTkYr39AcB"
      },
      "execution_count": 9,
      "outputs": []
    },
    {
      "cell_type": "code",
      "source": [
        "def one_hot_encoding(Y):\n",
        "    one_hot_Y = np.zeros((Y.max() + 1, Y.size))\n",
        "    one_hot_Y[Y, np.arange(Y.size)] = 1\n",
        "    return one_hot_Y"
      ],
      "metadata": {
        "id": "w9pOS5e4ICq5"
      },
      "execution_count": 10,
      "outputs": []
    },
    {
      "cell_type": "code",
      "source": [
        "def backpropagation(Z1, A1, Z2, A2, W1, W2, X, Y):\n",
        "    m = Y.size\n",
        "    one_hot_Y = one_hot_encoding(Y)\n",
        "    dZ2 = A2 - one_hot_Y\n",
        "    dW2 = 1 / m * dZ2.dot(A1.T)\n",
        "    db2 = 1 / m * np.sum(dZ2, axis=1, keepdims=True)\n",
        "    dZ1 = W2.T.dot(dZ2) * ReLU_deriv(Z1)\n",
        "    dW1 = 1 / m * dZ1.dot(X.T)\n",
        "    db1 = 1 / m * np.sum(dZ1, axis=1, keepdims=True)\n",
        "    return dW1, db1, dW2, db2"
      ],
      "metadata": {
        "id": "QjXSd5lHQD4N"
      },
      "execution_count": 11,
      "outputs": []
    },
    {
      "cell_type": "code",
      "source": [
        "def update_params(W1, b1, W2, b2, dW1, db1, dW2, db2, LR):\n",
        "    W1 = W1 - LR * dW1\n",
        "    b1 = b1 - LR * db1\n",
        "    W2 = W2 - LR * dW2\n",
        "    b2 = b2 - LR * db2\n",
        "    return W1, b1, W2, b2"
      ],
      "metadata": {
        "id": "NGuEJeOUzzIW"
      },
      "execution_count": 12,
      "outputs": []
    },
    {
      "cell_type": "code",
      "source": [
        "def predictions(A2):\n",
        "    return np.argmax(A2, axis=0)"
      ],
      "metadata": {
        "id": "z0Afnl7y0kTy"
      },
      "execution_count": 13,
      "outputs": []
    },
    {
      "cell_type": "code",
      "source": [
        "def accuracy(preds, Y):\n",
        "    return np.sum(preds == Y) / Y.size"
      ],
      "metadata": {
        "id": "EFayyrU-zCCo"
      },
      "execution_count": 14,
      "outputs": []
    },
    {
      "cell_type": "code",
      "source": [
        "def gradient_descent(X, Y, LR, iterations):\n",
        "    W1, b1, W2, b2 = init_params()\n",
        "\n",
        "    for i in range(iterations):\n",
        "        Z1, A1, Z2, A2 = forward_propagation(W1, b1, W2, b2, X)\n",
        "        dW1, db1, dW2, db2 = backpropagation(Z1, A1, Z2, A2, W1, W2, X, Y)\n",
        "        W1, b1, W2, b2 = update_params(W1, b1, W2, b2, dW1, db1, dW2, db2, LR)\n",
        "\n",
        "        if i % 10 == 0:\n",
        "            print(\"Iter:\", i)\n",
        "            preds = predictions(A2)\n",
        "            print(\"Accuracy:\", accuracy(preds, Y))\n",
        "\n",
        "    return W1, b1, W2, b2"
      ],
      "metadata": {
        "id": "g9JPyEbgzS1w"
      },
      "execution_count": 15,
      "outputs": []
    },
    {
      "cell_type": "code",
      "source": [
        "W1, b1, W2, b2 = gradient_descent(X_train, Y_train, 0.001, 300)"
      ],
      "metadata": {
        "colab": {
          "base_uri": "https://localhost:8080/"
        },
        "id": "0qYktVub0MjD",
        "outputId": "190ad5ac-e480-448f-a616-b46f6e304285"
      },
      "execution_count": null,
      "outputs": [
        {
          "output_type": "stream",
          "name": "stdout",
          "text": [
            "Iter: 0\n",
            "Accuracy: 0.0984390243902439\n",
            "Iter: 10\n",
            "Accuracy: 0.09804878048780488\n",
            "Iter: 20\n",
            "Accuracy: 0.09734146341463415\n",
            "Iter: 30\n",
            "Accuracy: 0.09709756097560976\n",
            "Iter: 40\n",
            "Accuracy: 0.09702439024390244\n",
            "Iter: 50\n",
            "Accuracy: 0.09687804878048781\n",
            "Iter: 60\n",
            "Accuracy: 0.09673170731707317\n",
            "Iter: 70\n",
            "Accuracy: 0.09663414634146342\n",
            "Iter: 80\n",
            "Accuracy: 0.09660975609756098\n",
            "Iter: 90\n",
            "Accuracy: 0.09663414634146342\n",
            "Iter: 100\n",
            "Accuracy: 0.09663414634146342\n",
            "Iter: 110\n",
            "Accuracy: 0.09670731707317073\n",
            "Iter: 120\n",
            "Accuracy: 0.09673170731707317\n",
            "Iter: 130\n",
            "Accuracy: 0.09675609756097561\n",
            "Iter: 140\n",
            "Accuracy: 0.09675609756097561\n",
            "Iter: 150\n",
            "Accuracy: 0.09675609756097561\n",
            "Iter: 160\n",
            "Accuracy: 0.09675609756097561\n",
            "Iter: 170\n",
            "Accuracy: 0.09678048780487805\n",
            "Iter: 180\n",
            "Accuracy: 0.09673170731707317\n",
            "Iter: 190\n",
            "Accuracy: 0.09670731707317073\n",
            "Iter: 200\n",
            "Accuracy: 0.09675609756097561\n",
            "Iter: 210\n",
            "Accuracy: 0.09678048780487805\n",
            "Iter: 220\n",
            "Accuracy: 0.09682926829268293\n",
            "Iter: 230\n",
            "Accuracy: 0.09687804878048781\n",
            "Iter: 240\n",
            "Accuracy: 0.09690243902439025\n",
            "Iter: 250\n",
            "Accuracy: 0.09697560975609756\n",
            "Iter: 260\n",
            "Accuracy: 0.09697560975609756\n",
            "Iter: 270\n",
            "Accuracy: 0.09697560975609756\n",
            "Iter: 280\n",
            "Accuracy: 0.097\n",
            "Iter: 290\n",
            "Accuracy: 0.097\n"
          ]
        }
      ]
    },
    {
      "cell_type": "code",
      "source": [],
      "metadata": {
        "id": "PPgwqThi0WFs"
      },
      "execution_count": null,
      "outputs": []
    }
  ]
}